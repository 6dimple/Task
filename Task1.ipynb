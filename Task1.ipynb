{
 "cells": [
  {
   "cell_type": "code",
   "execution_count": 8,
   "id": "c688cc9c",
   "metadata": {},
   "outputs": [
    {
     "name": "stdout",
     "output_type": "stream",
     "text": [
      "Requirement already satisfied: pyPDF in c:\\users\\dimple\\appdata\\local\\programs\\python\\python37\\lib\\site-packages (4.3.0)\n",
      "Requirement already satisfied: typing_extensions>=4.0 in c:\\users\\dimple\\appdata\\local\\programs\\python\\python37\\lib\\site-packages (from pyPDF) (4.7.1)\n",
      "Note: you may need to restart the kernel to use updated packages.\n"
     ]
    }
   ],
   "source": [
    "pip install pyPDF"
   ]
  },
  {
   "cell_type": "code",
   "execution_count": 9,
   "id": "897e8434",
   "metadata": {},
   "outputs": [
    {
     "name": "stdout",
     "output_type": "stream",
     "text": [
      "Requirement already satisfied: PyPDF2 in c:\\users\\dimple\\appdata\\local\\programs\\python\\python37\\lib\\site-packages (3.0.1)\n",
      "Requirement already satisfied: typing_extensions>=3.10.0.0 in c:\\users\\dimple\\appdata\\local\\programs\\python\\python37\\lib\\site-packages (from PyPDF2) (4.7.1)\n",
      "Note: you may need to restart the kernel to use updated packages.\n"
     ]
    }
   ],
   "source": [
    " pip install PyPDF2"
   ]
  },
  {
   "cell_type": "code",
   "execution_count": 10,
   "id": "a709b8a9",
   "metadata": {},
   "outputs": [
    {
     "name": "stdout",
     "output_type": "stream",
     "text": [
      "Requirement already satisfied: PyMuPDF in c:\\users\\dimple\\appdata\\local\\programs\\python\\python37\\lib\\site-packages (1.22.5)\n",
      "Requirement already satisfied: pydantic in c:\\users\\dimple\\appdata\\local\\programs\\python\\python37\\lib\\site-packages (2.5.3)\n",
      "Requirement already satisfied: annotated-types>=0.4.0 in c:\\users\\dimple\\appdata\\local\\programs\\python\\python37\\lib\\site-packages (from pydantic) (0.5.0)\n",
      "Requirement already satisfied: importlib-metadata in c:\\users\\dimple\\appdata\\local\\programs\\python\\python37\\lib\\site-packages (from pydantic) (6.7.0)\n",
      "Requirement already satisfied: pydantic-core==2.14.6 in c:\\users\\dimple\\appdata\\local\\programs\\python\\python37\\lib\\site-packages (from pydantic) (2.14.6)\n",
      "Requirement already satisfied: typing-extensions>=4.6.1 in c:\\users\\dimple\\appdata\\local\\programs\\python\\python37\\lib\\site-packages (from pydantic) (4.7.1)\n",
      "Requirement already satisfied: zipp>=0.5 in c:\\users\\dimple\\appdata\\local\\programs\\python\\python37\\lib\\site-packages (from importlib-metadata->pydantic) (3.15.0)\n",
      "Note: you may need to restart the kernel to use updated packages.\n"
     ]
    }
   ],
   "source": [
    "pip install PyMuPDF pydantic\n"
   ]
  },
  {
   "cell_type": "code",
   "execution_count": 12,
   "id": "c10612f1",
   "metadata": {},
   "outputs": [
    {
     "name": "stdout",
     "output_type": "stream",
     "text": [
      "Requirement already satisfied: PyMuPDF in c:\\users\\dimple\\appdata\\local\\programs\\python\\python37\\lib\\site-packages (1.22.5)\n",
      "Requirement already satisfied: pydantic in c:\\users\\dimple\\appdata\\local\\programs\\python\\python37\\lib\\site-packages (2.5.3)\n",
      "Requirement already satisfied: annotated-types>=0.4.0 in c:\\users\\dimple\\appdata\\local\\programs\\python\\python37\\lib\\site-packages (from pydantic) (0.5.0)\n",
      "Requirement already satisfied: importlib-metadata in c:\\users\\dimple\\appdata\\local\\programs\\python\\python37\\lib\\site-packages (from pydantic) (6.7.0)\n",
      "Requirement already satisfied: pydantic-core==2.14.6 in c:\\users\\dimple\\appdata\\local\\programs\\python\\python37\\lib\\site-packages (from pydantic) (2.14.6)\n",
      "Requirement already satisfied: typing-extensions>=4.6.1 in c:\\users\\dimple\\appdata\\local\\programs\\python\\python37\\lib\\site-packages (from pydantic) (4.7.1)\n",
      "Requirement already satisfied: zipp>=0.5 in c:\\users\\dimple\\appdata\\local\\programs\\python\\python37\\lib\\site-packages (from importlib-metadata->pydantic) (3.15.0)\n",
      "Note: you may need to restart the kernel to use updated packages.\n"
     ]
    }
   ],
   "source": [
    "pip install PyMuPDF pydantic"
   ]
  },
  {
   "cell_type": "code",
   "execution_count": 14,
   "id": "97aa62fb",
   "metadata": {},
   "outputs": [
    {
     "name": "stdout",
     "output_type": "stream",
     "text": [
      "Data successfully written to output.json\n"
     ]
    }
   ],
   "source": [
    "import fitz  # PyMuPDF\n",
    "from pydantic import BaseModel, ValidationError\n",
    "from typing import List, Any\n",
    "import json\n",
    "import PyPDF2\n",
    "\n",
    "class TableData(BaseModel):\n",
    "    headers: List[str]\n",
    "    rows: List[List[str]]\n",
    "\n",
    "class PDFData(BaseModel):\n",
    "    title: str\n",
    "    author: str\n",
    "    content: List[str]\n",
    "    tables: List[TableData]\n",
    "\n",
    "def read_pdf(file_path: str) -> Any:\n",
    "    try:\n",
    "        # Open the PDF file\n",
    "        with open(file_path, 'rb') as pdf_file:\n",
    "            reader = PyPDF2.PdfReader(pdf_file)\n",
    "            pdf_data = {\n",
    "                \"title\": \"Unknown Title\",  # PyPDF2 doesn't extract metadata\n",
    "                \"author\": \"Unknown Author\",\n",
    "                \"content\": [],\n",
    "                \"tables\": []\n",
    "            }\n",
    "\n",
    "            for page_num in range(len(reader.pages)):\n",
    "                page = reader.pages[page_num]\n",
    "                pdf_data[\"content\"].append(page.extract_text())\n",
    "\n",
    "                # Extract tables (placeholder)\n",
    "                # You might need a more sophisticated approach for extracting tables.\n",
    "                # Here, just demonstrating with a placeholder.\n",
    "                pdf_data[\"tables\"].append({\n",
    "                    \"headers\": [\"Column1\", \"Column2\"],\n",
    "                    \"rows\": [[\"Value1\", \"Value2\"], [\"Value3\", \"Value4\"]]\n",
    "                })\n",
    "        \n",
    "        return pdf_data\n",
    "    except Exception as e:\n",
    "        print(f\"An error occurred while reading the PDF: {e}\")\n",
    "        return None\n",
    "\n",
    "def validate_and_serialize(data: Any) -> str:\n",
    "    try:\n",
    "        pdf_data = PDFData(**data)\n",
    "        return pdf_data.model_dump_json(indent=4)\n",
    "    except ValidationError as e:\n",
    "        print(f\"Validation error: {e}\")\n",
    "        return None\n",
    "\n",
    "def main(file_path: str, output_path: str):\n",
    "    data = read_pdf(file_path)\n",
    "    if data:\n",
    "        json_data = validate_and_serialize(data)\n",
    "        if json_data:\n",
    "            with open(output_path, 'w') as json_file:\n",
    "                json_file.write(json_data)\n",
    "            print(f\"Data successfully written to {output_path}\")\n",
    "        else:\n",
    "            print(\"Failed to serialize data to JSON.\")\n",
    "    else:\n",
    "        print(\"Failed to read data from the PDF.\")\n",
    "\n",
    "if __name__ == \"__main__\":\n",
    "    input_pdf = \"Python test.pdf\"  # Replace with your PDF file path\n",
    "    output_json = \"output.json\"  # Replace with your desired output file path\n",
    "    main(input_pdf, output_json)\n",
    "\n"
   ]
  },
  {
   "cell_type": "code",
   "execution_count": 28,
   "id": "9314239f",
   "metadata": {},
   "outputs": [
    {
     "name": "stdout",
     "output_type": "stream",
     "text": [
      "Requirement already satisfied: PyMuPDF in c:\\users\\dimple\\appdata\\local\\programs\\python\\python37\\lib\\site-packages (1.22.5)\n",
      "Requirement already satisfied: pydantic in c:\\users\\dimple\\appdata\\local\\programs\\python\\python37\\lib\\site-packages (2.5.3)\n",
      "Requirement already satisfied: PyPDF2 in c:\\users\\dimple\\appdata\\local\\programs\\python\\python37\\lib\\site-packages (3.0.1)\n",
      "Requirement already satisfied: annotated-types>=0.4.0 in c:\\users\\dimple\\appdata\\local\\programs\\python\\python37\\lib\\site-packages (from pydantic) (0.5.0)\n",
      "Requirement already satisfied: importlib-metadata in c:\\users\\dimple\\appdata\\local\\programs\\python\\python37\\lib\\site-packages (from pydantic) (6.7.0)\n",
      "Requirement already satisfied: pydantic-core==2.14.6 in c:\\users\\dimple\\appdata\\local\\programs\\python\\python37\\lib\\site-packages (from pydantic) (2.14.6)\n",
      "Requirement already satisfied: typing-extensions>=4.6.1 in c:\\users\\dimple\\appdata\\local\\programs\\python\\python37\\lib\\site-packages (from pydantic) (4.7.1)\n",
      "Requirement already satisfied: zipp>=0.5 in c:\\users\\dimple\\appdata\\local\\programs\\python\\python37\\lib\\site-packages (from importlib-metadata->pydantic) (3.15.0)\n"
     ]
    }
   ],
   "source": [
    "!pip install PyMuPDF pydantic PyPDF2\n"
   ]
  },
  {
   "cell_type": "code",
   "execution_count": 29,
   "id": "55b54e29",
   "metadata": {},
   "outputs": [],
   "source": [
    "from pydantic import BaseModel, ValidationError\n",
    "from typing import List\n",
    "\n",
    "class TableData(BaseModel):\n",
    "    headers: List[str]\n",
    "    rows: List[List[str]]\n",
    "\n",
    "class PDFData(BaseModel):\n",
    "    title: str\n",
    "    author: str\n",
    "    content: List[str]\n",
    "    tables: List[TableData]\n"
   ]
  },
  {
   "cell_type": "code",
   "execution_count": 24,
   "id": "82923ecb",
   "metadata": {},
   "outputs": [],
   "source": [
    "import PyPDF2\n",
    "\n",
    "def read_pdf(file_path: str) -> Any:\n",
    "    try:\n",
    "        # Open the PDF file\n",
    "        with open(file_path, 'rb') as pdf_file:\n",
    "            reader = PyPDF2.PdfReader(pdf_file)\n",
    "            pdf_data = {\n",
    "                \"title\": \"Unknown Title\",  # PyPDF2 doesn't extract metadata\n",
    "                \"author\": \"Unknown Author\",\n",
    "                \"content\": [],\n",
    "                \"tables\": []\n",
    "            }\n",
    "\n",
    "            for page_num in range(len(reader.pages)):\n",
    "                page = reader.pages[page_num]\n",
    "                pdf_data[\"content\"].append(page.extract_text())\n",
    "\n",
    "                # Extract tables (placeholder)\n",
    "                # You might need a more sophisticated approach for extracting tables.\n",
    "                # Here, just demonstrating with a placeholder.\n",
    "                pdf_data[\"tables\"].append({\n",
    "                    \"headers\": [\"Column1\", \"Column2\"],\n",
    "                    \"rows\": [[\"Value1\", \"Value2\"], [\"Value3\", \"Value4\"]]\n",
    "                })\n",
    "        \n",
    "        return pdf_data\n",
    "    except Exception as e:\n",
    "        print(f\"An error occurred while reading the PDF: {e}\")\n",
    "        return None\n"
   ]
  },
  {
   "cell_type": "code",
   "execution_count": 30,
   "id": "5eb2f6b7",
   "metadata": {},
   "outputs": [],
   "source": [
    "def validate_and_serialize(data: Any) -> str:\n",
    "    try:\n",
    "        pdf_data = PDFData(**data)\n",
    "        return pdf_data.json(indent=4)\n",
    "    except ValidationError as e:\n",
    "        print(f\"Validation error: {e}\")\n",
    "        return None\n"
   ]
  },
  {
   "cell_type": "code",
   "execution_count": null,
   "id": "0c84cbf9",
   "metadata": {},
   "outputs": [],
   "source": [
    "\n",
    "\n",
    "\n"
   ]
  },
  {
   "cell_type": "code",
   "execution_count": 31,
   "id": "77b5386a",
   "metadata": {},
   "outputs": [
    {
     "name": "stdout",
     "output_type": "stream",
     "text": [
      "Data successfully written to output.json\n"
     ]
    }
   ],
   "source": [
    "import fitz  # PyMuPDF\n",
    "from pydantic import BaseModel, ValidationError\n",
    "from typing import List, Any\n",
    "import json\n",
    "import PyPDF2\n",
    "\n",
    "class TableData(BaseModel):\n",
    "    headers: List[str]\n",
    "    rows: List[List[str]]\n",
    "\n",
    "class PDFData(BaseModel):\n",
    "    title: str\n",
    "    author: str\n",
    "    content: List[str]\n",
    "    tables: List[TableData]\n",
    "\n",
    "def read_pdf(file_path: str) -> Any:\n",
    "    try:\n",
    "        # Open the PDF file\n",
    "        with open(file_path, 'rb') as pdf_file:\n",
    "            reader = PyPDF2.PdfReader(pdf_file)\n",
    "            pdf_data = {\n",
    "                \"title\": \"Unknown Title\",  # PyPDF2 doesn't extract metadata\n",
    "                \"author\": \"Unknown Author\",\n",
    "                \"content\": [],\n",
    "                \"tables\": []\n",
    "            }\n",
    "\n",
    "            for page_num in range(len(reader.pages)):\n",
    "                page = reader.pages[page_num]\n",
    "                pdf_data[\"content\"].append(page.extract_text())\n",
    "\n",
    "                # Extract tables (placeholder)\n",
    "                # You might need a more sophisticated approach for extracting tables.\n",
    "                # Here, just demonstrating with a placeholder.\n",
    "                pdf_data[\"tables\"].append({\n",
    "                    \"headers\": [\"Column1\", \"Column2\"],\n",
    "                    \"rows\": [[\"Value1\", \"Value2\"], [\"Value3\", \"Value4\"]]\n",
    "                })\n",
    "        \n",
    "        return pdf_data\n",
    "    except Exception as e:\n",
    "        print(f\"An error occurred while reading the PDF: {e}\")\n",
    "        return None\n",
    "\n",
    "def validate_and_serialize(data: Any) -> str:\n",
    "    try:\n",
    "        pdf_data = PDFData(**data)\n",
    "        return pdf_data.model_dump_json(indent=4)\n",
    "    except ValidationError as e:\n",
    "        print(f\"Validation error: {e}\")\n",
    "        return None\n",
    "\n",
    "def main(file_path: str, output_path: str):\n",
    "    data = read_pdf(file_path)\n",
    "    if data:\n",
    "        json_data = validate_and_serialize(data)\n",
    "        if json_data:\n",
    "            with open(output_path, 'w') as json_file:\n",
    "                json_file.write(json_data)\n",
    "            print(f\"Data successfully written to {output_path}\")\n",
    "        else:\n",
    "            print(\"Failed to serialize data to JSON.\")\n",
    "    else:\n",
    "        print(\"Failed to read data from the PDF.\")\n",
    "\n",
    "if __name__ == \"__main__\":\n",
    "    input_pdf = \"Python test.pdf\"  # Replace with your PDF file path\n",
    "    output_json = \"output.json\"  # Replace with your desired output file path\n",
    "    main(input_pdf, output_json)\n"
   ]
  },
  {
   "cell_type": "code",
   "execution_count": 32,
   "id": "94e6a67a",
   "metadata": {},
   "outputs": [
    {
     "name": "stdout",
     "output_type": "stream",
     "text": [
      "True\n",
      "True\n"
     ]
    }
   ],
   "source": [
    "import os\n",
    "\n",
    "# Check if PDF file exists\n",
    "print(os.path.isfile('Python test.pdf'))\n",
    "\n",
    "# Check if JSON output path is writable\n",
    "print(os.access('output.json', os.W_OK))\n"
   ]
  },
  {
   "cell_type": "code",
   "execution_count": null,
   "id": "28b49223",
   "metadata": {},
   "outputs": [],
   "source": []
  }
 ],
 "metadata": {
  "kernelspec": {
   "display_name": "Python 3 (ipykernel)",
   "language": "python",
   "name": "python3"
  },
  "language_info": {
   "codemirror_mode": {
    "name": "ipython",
    "version": 3
   },
   "file_extension": ".py",
   "mimetype": "text/x-python",
   "name": "python",
   "nbconvert_exporter": "python",
   "pygments_lexer": "ipython3",
   "version": "3.7.9"
  }
 },
 "nbformat": 4,
 "nbformat_minor": 5
}
